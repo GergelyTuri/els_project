{
 "cells": [
  {
   "cell_type": "code",
   "execution_count": 1,
   "metadata": {},
   "outputs": [],
   "source": [
    "import sys\n",
    "import os\n",
    "sys.path.append(os.path.join(os.getcwd(), '..', '..', 'src'))\n",
    "from sefl_analysis_tools import AnalysisTools\n",
    "import sefl_analysis_tools as sat\n",
    "import pandas as pd\n",
    "import numpy as np"
   ]
  },
  {
   "cell_type": "code",
   "execution_count": 2,
   "metadata": {},
   "outputs": [],
   "source": [
    "data = pd.read_csv('All_cohorts_freezing_workbook_10_22_24.csv')\n",
    "data = data[data['cohort'].isin(['ptsd2', 'ptsd3', 'ptsd4', 'ptsd5', 'ptsd6', 'ptsd9'])]\n",
    "data_old = pd.read_csv('PTSD_filtered.csv')\n"
   ]
  },
  {
   "cell_type": "code",
   "execution_count": 3,
   "metadata": {},
   "outputs": [
    {
     "name": "stderr",
     "output_type": "stream",
     "text": [
      "c:\\Users\\Chehaoy\\OneDrive - New York State Office of Information Technology Services\\Documents\\els_project\\notebooks\\novak_analyses\\..\\..\\src\\sefl_analysis_tools.py:18: UserWarning: Could not infer format, so each element will be parsed individually, falling back to `dateutil`. To ensure parsing is consistent and as-expected, please specify a format.\n",
      "  data['dob'] = pd.to_datetime(data['dob'])\n",
      "c:\\Users\\Chehaoy\\OneDrive - New York State Office of Information Technology Services\\Documents\\els_project\\notebooks\\novak_analyses\\..\\..\\src\\sefl_analysis_tools.py:19: UserWarning: Could not infer format, so each element will be parsed individually, falling back to `dateutil`. To ensure parsing is consistent and as-expected, please specify a format.\n",
      "  data['date'] = pd.to_datetime(data['date'])\n"
     ]
    },
    {
     "data": {
      "application/vnd.microsoft.datawrangler.viewer.v0+json": {
       "columns": [
        {
         "name": "index",
         "rawType": "int64",
         "type": "integer"
        },
        {
         "name": "freezing",
         "rawType": "float64",
         "type": "float"
        },
        {
         "name": "freezing_1_75s",
         "rawType": "float64",
         "type": "float"
        },
        {
         "name": "genotype",
         "rawType": "object",
         "type": "string"
        },
        {
         "name": "id",
         "rawType": "object",
         "type": "string"
        },
        {
         "name": "day",
         "rawType": "object",
         "type": "string"
        },
        {
         "name": "condition",
         "rawType": "object",
         "type": "string"
        },
        {
         "name": "sex",
         "rawType": "object",
         "type": "string"
        },
        {
         "name": "cohort",
         "rawType": "object",
         "type": "string"
        },
        {
         "name": "exposure_mins",
         "rawType": "float64",
         "type": "float"
        },
        {
         "name": "analyzed_duration",
         "rawType": "float64",
         "type": "float"
        },
        {
         "name": "date",
         "rawType": "datetime64[ns]",
         "type": "datetime"
        },
        {
         "name": "time",
         "rawType": "object",
         "type": "string"
        },
        {
         "name": "els",
         "rawType": "object",
         "type": "string"
        },
        {
         "name": "psilocybin",
         "rawType": "object",
         "type": "string"
        },
        {
         "name": "cohort_id",
         "rawType": "object",
         "type": "string"
        },
        {
         "name": "dob",
         "rawType": "datetime64[ns]",
         "type": "datetime"
        },
        {
         "name": "age_at_sefla",
         "rawType": "float64",
         "type": "float"
        },
        {
         "name": "young",
         "rawType": "object",
         "type": "string"
        }
       ],
       "conversionMethod": "pd.DataFrame",
       "ref": "50a1bc4c-6f39-468c-8202-a0afb45532ee",
       "rows": [
        [
         "0",
         "5.03",
         "0.9",
         "wt",
         "81",
         "sefla",
         "control",
         "male",
         "ptsd2",
         "60.0",
         "60.0",
         "2021-04-28 00:00:00",
         "11:59 AM",
         "n",
         "n",
         "ptsd2_81",
         "2021-02-16 00:00:00",
         "10.142857142857142",
         "True"
        ],
        [
         "1",
         "0.45",
         "0.0",
         "wt",
         "81",
         "seflb",
         "control",
         "male",
         "ptsd2",
         "3.5",
         "3.5",
         "2021-04-29 00:00:00",
         "4:40 PM",
         "n",
         "n",
         "ptsd2_81",
         "2021-02-16 00:00:00",
         "10.142857142857142",
         "True"
        ],
        [
         "2",
         "8.28",
         "0.62",
         "wt",
         "81",
         "recall1",
         "control",
         "male",
         "ptsd2",
         "5.0",
         "5.0",
         "2021-04-30 00:00:00",
         "1:37 PM",
         "n",
         "n",
         "ptsd2_81",
         "2021-02-16 00:00:00",
         "10.142857142857142",
         "True"
        ],
        [
         "3",
         "7.12",
         "0.71",
         "wt",
         "81",
         "recall2",
         "control",
         "male",
         "ptsd2",
         "5.0",
         "5.0",
         "2021-05-03 00:00:00",
         "10:17 AM",
         "n",
         "n",
         "ptsd2_81",
         "2021-02-16 00:00:00",
         "10.142857142857142",
         "True"
        ],
        [
         "4",
         "7.57",
         "0.0",
         "wt",
         "81",
         "recall3",
         "control",
         "male",
         "ptsd2",
         "5.0",
         "5.0",
         "2021-05-05 00:00:00",
         "10:04 AM",
         "n",
         "n",
         "ptsd2_81",
         "2021-02-16 00:00:00",
         "10.142857142857142",
         "True"
        ]
       ],
       "shape": {
        "columns": 18,
        "rows": 5
       }
      },
      "text/html": [
       "<div>\n",
       "<style scoped>\n",
       "    .dataframe tbody tr th:only-of-type {\n",
       "        vertical-align: middle;\n",
       "    }\n",
       "\n",
       "    .dataframe tbody tr th {\n",
       "        vertical-align: top;\n",
       "    }\n",
       "\n",
       "    .dataframe thead th {\n",
       "        text-align: right;\n",
       "    }\n",
       "</style>\n",
       "<table border=\"1\" class=\"dataframe\">\n",
       "  <thead>\n",
       "    <tr style=\"text-align: right;\">\n",
       "      <th></th>\n",
       "      <th>freezing</th>\n",
       "      <th>freezing_1_75s</th>\n",
       "      <th>genotype</th>\n",
       "      <th>id</th>\n",
       "      <th>day</th>\n",
       "      <th>condition</th>\n",
       "      <th>sex</th>\n",
       "      <th>cohort</th>\n",
       "      <th>exposure_mins</th>\n",
       "      <th>analyzed_duration</th>\n",
       "      <th>date</th>\n",
       "      <th>time</th>\n",
       "      <th>els</th>\n",
       "      <th>psilocybin</th>\n",
       "      <th>cohort_id</th>\n",
       "      <th>dob</th>\n",
       "      <th>age_at_sefla</th>\n",
       "      <th>young</th>\n",
       "    </tr>\n",
       "  </thead>\n",
       "  <tbody>\n",
       "    <tr>\n",
       "      <th>0</th>\n",
       "      <td>5.03</td>\n",
       "      <td>0.90</td>\n",
       "      <td>wt</td>\n",
       "      <td>81</td>\n",
       "      <td>sefla</td>\n",
       "      <td>control</td>\n",
       "      <td>male</td>\n",
       "      <td>ptsd2</td>\n",
       "      <td>60.0</td>\n",
       "      <td>60.0</td>\n",
       "      <td>2021-04-28</td>\n",
       "      <td>11:59 AM</td>\n",
       "      <td>n</td>\n",
       "      <td>n</td>\n",
       "      <td>ptsd2_81</td>\n",
       "      <td>2021-02-16</td>\n",
       "      <td>10.142857</td>\n",
       "      <td>True</td>\n",
       "    </tr>\n",
       "    <tr>\n",
       "      <th>1</th>\n",
       "      <td>0.45</td>\n",
       "      <td>0.00</td>\n",
       "      <td>wt</td>\n",
       "      <td>81</td>\n",
       "      <td>seflb</td>\n",
       "      <td>control</td>\n",
       "      <td>male</td>\n",
       "      <td>ptsd2</td>\n",
       "      <td>3.5</td>\n",
       "      <td>3.5</td>\n",
       "      <td>2021-04-29</td>\n",
       "      <td>4:40 PM</td>\n",
       "      <td>n</td>\n",
       "      <td>n</td>\n",
       "      <td>ptsd2_81</td>\n",
       "      <td>2021-02-16</td>\n",
       "      <td>10.142857</td>\n",
       "      <td>True</td>\n",
       "    </tr>\n",
       "    <tr>\n",
       "      <th>2</th>\n",
       "      <td>8.28</td>\n",
       "      <td>0.62</td>\n",
       "      <td>wt</td>\n",
       "      <td>81</td>\n",
       "      <td>recall1</td>\n",
       "      <td>control</td>\n",
       "      <td>male</td>\n",
       "      <td>ptsd2</td>\n",
       "      <td>5.0</td>\n",
       "      <td>5.0</td>\n",
       "      <td>2021-04-30</td>\n",
       "      <td>1:37 PM</td>\n",
       "      <td>n</td>\n",
       "      <td>n</td>\n",
       "      <td>ptsd2_81</td>\n",
       "      <td>2021-02-16</td>\n",
       "      <td>10.142857</td>\n",
       "      <td>True</td>\n",
       "    </tr>\n",
       "    <tr>\n",
       "      <th>3</th>\n",
       "      <td>7.12</td>\n",
       "      <td>0.71</td>\n",
       "      <td>wt</td>\n",
       "      <td>81</td>\n",
       "      <td>recall2</td>\n",
       "      <td>control</td>\n",
       "      <td>male</td>\n",
       "      <td>ptsd2</td>\n",
       "      <td>5.0</td>\n",
       "      <td>5.0</td>\n",
       "      <td>2021-05-03</td>\n",
       "      <td>10:17 AM</td>\n",
       "      <td>n</td>\n",
       "      <td>n</td>\n",
       "      <td>ptsd2_81</td>\n",
       "      <td>2021-02-16</td>\n",
       "      <td>10.142857</td>\n",
       "      <td>True</td>\n",
       "    </tr>\n",
       "    <tr>\n",
       "      <th>4</th>\n",
       "      <td>7.57</td>\n",
       "      <td>0.00</td>\n",
       "      <td>wt</td>\n",
       "      <td>81</td>\n",
       "      <td>recall3</td>\n",
       "      <td>control</td>\n",
       "      <td>male</td>\n",
       "      <td>ptsd2</td>\n",
       "      <td>5.0</td>\n",
       "      <td>5.0</td>\n",
       "      <td>2021-05-05</td>\n",
       "      <td>10:04 AM</td>\n",
       "      <td>n</td>\n",
       "      <td>n</td>\n",
       "      <td>ptsd2_81</td>\n",
       "      <td>2021-02-16</td>\n",
       "      <td>10.142857</td>\n",
       "      <td>True</td>\n",
       "    </tr>\n",
       "  </tbody>\n",
       "</table>\n",
       "</div>"
      ],
      "text/plain": [
       "   freezing  freezing_1_75s genotype  id      day condition   sex cohort  \\\n",
       "0      5.03            0.90       wt  81    sefla   control  male  ptsd2   \n",
       "1      0.45            0.00       wt  81    seflb   control  male  ptsd2   \n",
       "2      8.28            0.62       wt  81  recall1   control  male  ptsd2   \n",
       "3      7.12            0.71       wt  81  recall2   control  male  ptsd2   \n",
       "4      7.57            0.00       wt  81  recall3   control  male  ptsd2   \n",
       "\n",
       "   exposure_mins  analyzed_duration       date      time els psilocybin  \\\n",
       "0           60.0               60.0 2021-04-28  11:59 AM   n          n   \n",
       "1            3.5                3.5 2021-04-29   4:40 PM   n          n   \n",
       "2            5.0                5.0 2021-04-30   1:37 PM   n          n   \n",
       "3            5.0                5.0 2021-05-03  10:17 AM   n          n   \n",
       "4            5.0                5.0 2021-05-05  10:04 AM   n          n   \n",
       "\n",
       "  cohort_id        dob  age_at_sefla young  \n",
       "0  ptsd2_81 2021-02-16     10.142857  True  \n",
       "1  ptsd2_81 2021-02-16     10.142857  True  \n",
       "2  ptsd2_81 2021-02-16     10.142857  True  \n",
       "3  ptsd2_81 2021-02-16     10.142857  True  \n",
       "4  ptsd2_81 2021-02-16     10.142857  True  "
      ]
     },
     "execution_count": 3,
     "metadata": {},
     "output_type": "execute_result"
    }
   ],
   "source": [
    "merged_data = pd.merge(data_old, data[['id', 'cohort', 'freezing_1_75s', 'day']], on=['id', 'cohort', 'day'], how='left')\n",
    "columns = ['freezing', 'freezing_1_75s'] + [col for col in merged_data.columns if col not in ['freezing', 'freezing_1_75s']]\n",
    "merged_data = merged_data[columns]\n",
    "merged_data = sat.calculate_age_at_sefla(merged_data)\n",
    "merged_data.head()"
   ]
  },
  {
   "cell_type": "code",
   "execution_count": 4,
   "metadata": {},
   "outputs": [],
   "source": [
    "tools = AnalysisTools(merged_data)"
   ]
  },
  {
   "cell_type": "code",
   "execution_count": 5,
   "metadata": {},
   "outputs": [
    {
     "name": "stdout",
     "output_type": "stream",
     "text": [
      "Repeated ANOVA Result for conditional comparison:\n",
      "        Source            SS  DF1  DF2            MS          F         p-unc  \\\n",
      "0    condition  22412.005695    1   67  22412.005695  36.213495  8.261861e-08   \n",
      "1          day  13740.499208    4  268   3435.124802  26.509516  1.549818e-18   \n",
      "2  Interaction   1853.800016    4  268    463.450004   3.576532  7.330114e-03   \n",
      "\n",
      "      p-GG-corr       np2       eps sphericity   W-spher   p-spher  \n",
      "0           NaN  0.350860       NaN        NaN       NaN       NaN  \n",
      "1  2.967943e-14  0.283495  0.761674      False  0.541009  0.000005  \n",
      "2           NaN  0.050676       NaN        NaN       NaN       NaN  \n",
      "Required Sample Size per Group: 8.3398\n"
     ]
    }
   ],
   "source": [
    "result = tools.repeated_measures_anova(\n",
    "    dv='freezing_1_75s',\n",
    "    within='day',\n",
    "    between='condition',\n",
    "    subject='cohort_id'\n",
    ")\n",
    "print(\"Repeated ANOVA Result for conditional comparison:\")\n",
    "print(result['anova_result'])\n",
    "print(f\"Required Sample Size per Group: {result['required_sample_size']:.4f}\")"
   ]
  },
  {
   "cell_type": "code",
   "execution_count": 6,
   "metadata": {},
   "outputs": [
    {
     "name": "stdout",
     "output_type": "stream",
     "text": [
      "Repeated ANOVA Result for age comparison:\n",
      "        Source            SS  DF1  DF2            MS          F         p-unc  \\\n",
      "0        young  12092.593867    1   67  12092.593867  15.645610  1.868885e-04   \n",
      "1          day  13740.499208    4  268   3435.124802  26.521339  1.524257e-18   \n",
      "2  Interaction   1869.281222    4  268    467.320306   3.608009  6.955236e-03   \n",
      "\n",
      "      p-GG-corr       np2       eps sphericity   W-spher   p-spher  \n",
      "0           NaN  0.189310       NaN        NaN       NaN       NaN  \n",
      "1  2.967943e-14  0.283586  0.761674      False  0.541009  0.000005  \n",
      "2           NaN  0.051099       NaN        NaN       NaN       NaN  \n",
      "Required Sample Size per Group: 17.8191\n"
     ]
    }
   ],
   "source": [
    "results2 = tools.repeated_measures_anova(\n",
    "    dv='freezing_1_75s',\n",
    "    within='day',\n",
    "    between='young',\n",
    "    subject='cohort_id'\n",
    ")\n",
    "\n",
    "print(\"Repeated ANOVA Result for age comparison:\")\n",
    "print(results2['anova_result'])\n",
    "print(f\"Required Sample Size per Group: {results2['required_sample_size']:.4f}\")\n"
   ]
  },
  {
   "cell_type": "code",
   "execution_count": 7,
   "metadata": {},
   "outputs": [
    {
     "name": "stdout",
     "output_type": "stream",
     "text": [
      "Repeated ANOVA Result for age comparison in SEFL:\n",
      "        Source            SS  DF1  DF2            MS          F         p-unc  \\\n",
      "0        young  13621.578445    1   41  13621.578445  22.313943  2.714732e-05   \n",
      "1          day  13683.867112    4  164   3420.966778  19.460713  4.028269e-13   \n",
      "2  Interaction   1423.287725    4  164    355.821931   2.024150  9.339234e-02   \n",
      "\n",
      "      p-GG-corr       np2      eps sphericity   W-spher   p-spher  \n",
      "0           NaN  0.352433      NaN        NaN       NaN       NaN  \n",
      "1  1.540821e-10  0.321874  0.77897      False  0.530311  0.002362  \n",
      "2           NaN  0.047047      NaN        NaN       NaN       NaN  \n",
      "Required Sample Size per Group: 8.2906\n",
      "Repeated ANOVA Result for age comparison in control:\n",
      "        Source           SS  DF1  DF2          MS          F         p-unc  \\\n",
      "0        young   594.730511    1   24  594.730511   6.428047  1.816246e-02   \n",
      "1          day  1910.432112    4   96  477.608028  11.911890  6.716479e-08   \n",
      "2  Interaction   625.954961    4   96  156.488740   3.902942  5.574692e-03   \n",
      "\n",
      "   p-GG-corr       np2       eps sphericity   W-spher   p-spher  \n",
      "0        NaN  0.211254       NaN        NaN       NaN       NaN  \n",
      "1   0.000013  0.331698  0.694654      False  0.369874  0.005689  \n",
      "2        NaN  0.139876       NaN        NaN       NaN       NaN  \n",
      "Required Sample Size per Group: 15.6733\n"
     ]
    }
   ],
   "source": [
    "sefl_merged_data = merged_data[merged_data['condition'] == 'sefl']\n",
    "control_merged_data = merged_data[merged_data['condition'] == 'control']\n",
    "\n",
    "tools3 = AnalysisTools(sefl_merged_data)\n",
    "tools4 = AnalysisTools(control_merged_data)\n",
    "\n",
    "results3 = tools3.repeated_measures_anova(\n",
    "    dv='freezing_1_75s',\n",
    "    within='day',\n",
    "    between='young',\n",
    "    subject='cohort_id'\n",
    ")\n",
    "\n",
    "print(\"Repeated ANOVA Result for age comparison in SEFL:\")\n",
    "print(results3['anova_result'])\n",
    "print(f\"Required Sample Size per Group: {results3['required_sample_size']:.4f}\")\n",
    "\n",
    "\n",
    "results4 = tools4.repeated_measures_anova(\n",
    "    dv='freezing_1_75s',\n",
    "    within='day',\n",
    "    between='young',\n",
    "    subject='cohort_id'\n",
    ")\n",
    "\n",
    "print(\"Repeated ANOVA Result for age comparison in control:\")\n",
    "print(results4['anova_result'])\n",
    "print(f\"Required Sample Size per Group: {results4['required_sample_size']:.4f}\")\n"
   ]
  },
  {
   "cell_type": "code",
   "execution_count": 8,
   "metadata": {},
   "outputs": [
    {
     "name": "stdout",
     "output_type": "stream",
     "text": [
      "Repeated ANOVA Result for condition comparison in young adult mice:\n",
      "        Source           SS  DF1  DF2           MS          F         p-unc  \\\n",
      "0    condition  5979.262283    1   37  5979.262283  17.387539  1.763262e-04   \n",
      "1          day  4456.775034    4  148  1114.193758  12.991204  4.313257e-09   \n",
      "2  Interaction  1225.047135    4  148   306.261784   3.570931  8.219542e-03   \n",
      "\n",
      "   p-GG-corr       np2       eps sphericity  W-spher   p-spher  \n",
      "0        NaN  0.319697       NaN        NaN      NaN       NaN  \n",
      "1   0.000003  0.259870  0.636965      False   0.4035  0.000133  \n",
      "2        NaN  0.088017       NaN        NaN      NaN       NaN  \n",
      "Required Sample Size per Group: 9.4155\n",
      "Repeated ANOVA Result for condition comparison in adult mice:\n",
      "        Source            SS  DF1  DF2            MS          F         p-unc  \\\n",
      "0    condition  18556.458500    1   28  18556.458500  35.770547  1.926847e-06   \n",
      "1          day  11153.005396    4  112   2788.251349  15.625801  3.456488e-10   \n",
      "2  Interaction    808.714345    4  112    202.178586   1.133041  3.446601e-01   \n",
      "\n",
      "      p-GG-corr       np2       eps sphericity   W-spher   p-spher  \n",
      "0           NaN  0.560926       NaN        NaN       NaN       NaN  \n",
      "1  6.256684e-08  0.358178  0.718989      False  0.365104  0.001125  \n",
      "2           NaN  0.038892       NaN        NaN       NaN       NaN  \n",
      "Required Sample Size per Group: 4.2821\n"
     ]
    }
   ],
   "source": [
    "young_merged_data = merged_data[merged_data['young'] == 'True']\n",
    "old_merged_data = merged_data[merged_data['young'] == 'False']\n",
    "\n",
    "tools5 = AnalysisTools(young_merged_data)\n",
    "tools6 = AnalysisTools(old_merged_data)\n",
    "\n",
    "results5 = tools5.repeated_measures_anova(\n",
    "    dv='freezing_1_75s',\n",
    "    within='day',\n",
    "    between='condition',\n",
    "    subject='cohort_id'\n",
    ")\n",
    "\n",
    "print(\"Repeated ANOVA Result for condition comparison in young adult mice:\")\n",
    "print(results5['anova_result'])\n",
    "print(f\"Required Sample Size per Group: {results5['required_sample_size']:.4f}\")\n",
    "\n",
    "\n",
    "results6 = tools6.repeated_measures_anova(\n",
    "    dv='freezing_1_75s',\n",
    "    within='day',\n",
    "    between='condition',\n",
    "    subject='cohort_id'\n",
    ")\n",
    "\n",
    "print(\"Repeated ANOVA Result for condition comparison in adult mice:\")\n",
    "print(results6['anova_result'])\n",
    "print(f\"Required Sample Size per Group: {results6['required_sample_size']:.4f}\")\n"
   ]
  },
  {
   "cell_type": "code",
   "execution_count": 9,
   "metadata": {},
   "outputs": [
    {
     "name": "stdout",
     "output_type": "stream",
     "text": [
      "Repeated ANOVA Result for sex comparison:\n",
      "        Source            SS  DF1  DF2           MS          F         p-unc  \\\n",
      "0          sex    591.269478    1   67   591.269478   0.625968  4.316300e-01   \n",
      "1          day  13740.499208    4  268  3435.124802  26.555134  1.453509e-18   \n",
      "2  Interaction   1913.458392    4  268   478.364598   3.697984  5.985023e-03   \n",
      "\n",
      "      p-GG-corr       np2       eps sphericity   W-spher   p-spher  \n",
      "0           NaN  0.009256       NaN        NaN       NaN       NaN  \n",
      "1  2.967943e-14  0.283845  0.761674      False  0.541009  0.000005  \n",
      "2           NaN  0.052307       NaN        NaN       NaN       NaN  \n",
      "Required Sample Size per Group: 421.0108\n"
     ]
    }
   ],
   "source": [
    "results7 = tools.repeated_measures_anova(\n",
    "    dv='freezing_1_75s',\n",
    "    within='day',\n",
    "    between='sex',\n",
    "    subject='cohort_id'\n",
    ")\n",
    "\n",
    "print(\"Repeated ANOVA Result for sex comparison:\")\n",
    "print(results7['anova_result'])\n",
    "print(f\"Required Sample Size per Group: {results7['required_sample_size']:.4f}\")"
   ]
  },
  {
   "cell_type": "code",
   "execution_count": 10,
   "metadata": {},
   "outputs": [
    {
     "name": "stdout",
     "output_type": "stream",
     "text": [
      "Repeated ANOVA Result for condition comparison in male mice:\n",
      "        Source            SS  DF1  DF2            MS          F         p-unc  \\\n",
      "0    condition  13803.361016    1   47  13803.361016  24.361437  1.045058e-05   \n",
      "1          day   9766.531985    4  188   2441.632996  19.549159  1.812844e-13   \n",
      "2  Interaction   1374.936737    4  188    343.734184   2.752139  2.946258e-02   \n",
      "\n",
      "      p-GG-corr       np2       eps sphericity   W-spher   p-spher  \n",
      "0           NaN  0.341381       NaN        NaN       NaN       NaN  \n",
      "1  4.565038e-10  0.293755  0.721935      False  0.462933  0.000044  \n",
      "2           NaN  0.055317       NaN        NaN       NaN       NaN  \n",
      "Required Sample Size per Group: 8.6458\n",
      "Repeated ANOVA Result for condition comparison in female mice:\n",
      "        Source           SS  DF1  DF2           MS          F         p-unc  \\\n",
      "0    condition  8654.529426    1   18  8654.529426  10.972352  3.873324e-03   \n",
      "1          day  5887.425614    4   72  1471.856403  12.145284  1.343875e-07   \n",
      "2  Interaction  1086.913743    4   72   271.728436   2.242215  7.284847e-02   \n",
      "\n",
      "   p-GG-corr       np2       eps sphericity  W-spher   p-spher  \n",
      "0        NaN  0.378718       NaN        NaN      NaN       NaN  \n",
      "1    0.00001  0.402892  0.703878      False  0.30368  0.014173  \n",
      "2        NaN  0.110769       NaN        NaN      NaN       NaN  \n",
      "Required Sample Size per Group: 7.5310\n"
     ]
    }
   ],
   "source": [
    "male_merged_data = merged_data[merged_data['sex'] == 'male']\n",
    "female_merged_data = merged_data[merged_data['sex'] == 'female']\n",
    "\n",
    "tools8 = AnalysisTools(male_merged_data)\n",
    "tools9 = AnalysisTools(female_merged_data)\n",
    "\n",
    "results8 = tools8.repeated_measures_anova(\n",
    "    dv='freezing_1_75s',\n",
    "    within='day',\n",
    "    between='condition',\n",
    "    subject='cohort_id'\n",
    ")\n",
    "\n",
    "print(\"Repeated ANOVA Result for condition comparison in male mice:\")\n",
    "print(results8['anova_result'])\n",
    "print(f\"Required Sample Size per Group: {results8['required_sample_size']:.4f}\")\n",
    "\n",
    "\n",
    "results9 = tools9.repeated_measures_anova(\n",
    "    dv='freezing_1_75s',\n",
    "    within='day',\n",
    "    between='condition',\n",
    "    subject='cohort_id'\n",
    ")\n",
    "\n",
    "print(\"Repeated ANOVA Result for condition comparison in female mice:\")\n",
    "print(results9['anova_result'])\n",
    "print(f\"Required Sample Size per Group: {results9['required_sample_size']:.4f}\")\n"
   ]
  },
  {
   "cell_type": "code",
   "execution_count": 11,
   "metadata": {},
   "outputs": [
    {
     "name": "stdout",
     "output_type": "stream",
     "text": [
      "Repeated ANOVA Result for age comparison in SEFL:\n",
      "        Source            SS  DF1  DF2           MS          F         p-unc  \\\n",
      "0          sex    633.829202    1   41   633.829202   0.683576  4.131441e-01   \n",
      "1          day  13683.867112    4  164  3420.966778  20.184650  1.554356e-13   \n",
      "2  Interaction   2457.270641    4  164   614.317660   3.624644  7.368865e-03   \n",
      "\n",
      "      p-GG-corr       np2      eps sphericity   W-spher   p-spher  \n",
      "0           NaN  0.016399      NaN        NaN       NaN       NaN  \n",
      "1  1.540821e-10  0.329897  0.77897      False  0.530311  0.002362  \n",
      "2           NaN  0.081225      NaN        NaN       NaN       NaN  \n",
      "Required Sample Size per Group: 236.3465\n",
      "Repeated ANOVA Result for age comparison in control:\n",
      "        Source           SS  DF1  DF2          MS          F         p-unc  \\\n",
      "0          sex     3.325023    1   24    3.325023   0.028379  8.676315e-01   \n",
      "1          day  1910.432112    4   96  477.608028  10.394922  4.885745e-07   \n",
      "2  Interaction    64.238215    4   96   16.059554   0.349529  8.437779e-01   \n",
      "\n",
      "   p-GG-corr       np2       eps sphericity   W-spher   p-spher  \n",
      "0        NaN  0.001181       NaN        NaN       NaN       NaN  \n",
      "1   0.000013  0.302223  0.694654      False  0.369874  0.005689  \n",
      "2        NaN  0.014355       NaN        NaN       NaN       NaN  \n",
      "Required Sample Size per Group: 3319.7823\n"
     ]
    }
   ],
   "source": [
    "results3 = tools3.repeated_measures_anova(\n",
    "    dv='freezing_1_75s',\n",
    "    within='day',\n",
    "    between='sex',\n",
    "    subject='cohort_id'\n",
    ")\n",
    "\n",
    "print(\"Repeated ANOVA Result for age comparison in SEFL:\")\n",
    "print(results3['anova_result'])\n",
    "print(f\"Required Sample Size per Group: {results3['required_sample_size']:.4f}\")\n",
    "\n",
    "\n",
    "results4 = tools4.repeated_measures_anova(\n",
    "    dv='freezing_1_75s',\n",
    "    within='day',\n",
    "    between='sex',\n",
    "    subject='cohort_id'\n",
    ")\n",
    "\n",
    "print(\"Repeated ANOVA Result for age comparison in control:\")\n",
    "print(results4['anova_result'])\n",
    "print(f\"Required Sample Size per Group: {results4['required_sample_size']:.4f}\")\n"
   ]
  }
 ],
 "metadata": {
  "kernelspec": {
   "display_name": "base",
   "language": "python",
   "name": "python3"
  },
  "language_info": {
   "codemirror_mode": {
    "name": "ipython",
    "version": 3
   },
   "file_extension": ".py",
   "mimetype": "text/x-python",
   "name": "python",
   "nbconvert_exporter": "python",
   "pygments_lexer": "ipython3",
   "version": "3.12.7"
  }
 },
 "nbformat": 4,
 "nbformat_minor": 2
}
