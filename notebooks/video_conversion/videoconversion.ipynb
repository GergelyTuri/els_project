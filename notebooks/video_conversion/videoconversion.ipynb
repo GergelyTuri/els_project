{
  "nbformat": 4,
  "nbformat_minor": 0,
  "metadata": {
    "colab": {
      "provenance": [],
      "include_colab_link": true
    },
    "kernelspec": {
      "name": "python3",
      "display_name": "Python 3"
    },
    "language_info": {
      "name": "python"
    }
  },
  "cells": [
    {
      "cell_type": "markdown",
      "metadata": {
        "id": "view-in-github",
        "colab_type": "text"
      },
      "source": [
        "<a href=\"https://colab.research.google.com/github/GergelyTuri/els_project/blob/master/notebooks/videoconversion.ipynb\" target=\"_parent\"><img src=\"https://colab.research.google.com/assets/colab-badge.svg\" alt=\"Open In Colab\"/></a>"
      ]
    },
    {
      "cell_type": "markdown",
      "source": [
        "# Notebook for converting `.ffii` videos to mp4.\n",
        "- 7/11/2023 GT modified indentations."
      ],
      "metadata": {
        "id": "hhopAKUZy3qR"
      }
    },
    {
      "cell_type": "code",
      "execution_count": null,
      "metadata": {
        "colab": {
          "base_uri": "https://localhost:8080/"
        },
        "id": "ccSbwkaSe8ee",
        "outputId": "3946730a-1c60-4214-f6c6-8ace3c8a7e16"
      },
      "outputs": [
        {
          "output_type": "stream",
          "name": "stdout",
          "text": [
            "fatal: destination path 'ffmpeg' already exists and is not an empty directory.\n"
          ]
        }
      ],
      "source": [
        "! git clone https://git.ffmpeg.org/ffmpeg.git ffmpeg"
      ]
    },
    {
      "cell_type": "code",
      "source": [
        "import sys\n",
        "import struct\n",
        "import subprocess\n",
        "import os\n",
        "import time"
      ],
      "metadata": {
        "id": "p710urVlvPyw"
      },
      "execution_count": null,
      "outputs": []
    },
    {
      "cell_type": "code",
      "source": [
        "from google.colab import drive\n",
        "drive.mount(\"/content/drive\")"
      ],
      "metadata": {
        "colab": {
          "base_uri": "https://localhost:8080/"
        },
        "id": "KxYaizwohdBP",
        "outputId": "eed2a9f7-d823-4dff-e208-5c9eda4c1c2f"
      },
      "execution_count": null,
      "outputs": [
        {
          "output_type": "stream",
          "name": "stdout",
          "text": [
            "Drive already mounted at /content/drive; to attempt to forcibly remount, call drive.mount(\"/content/drive\", force_remount=True).\n"
          ]
        }
      ]
    },
    {
      "cell_type": "code",
      "source": [
        "folderpath = '/content/drive/Shareddrives/Turi_lab/Data/'\\\n",
        "        'PTSD_project/ELS2_PTSD/shockboxes/SEFLb/males/'\n",
        "\n",
        "exten = '.ffii'\n",
        "\n",
        "nbFiles = 0"
      ],
      "metadata": {
        "id": "ws0nL63AuqK8"
      },
      "execution_count": null,
      "outputs": []
    },
    {
      "cell_type": "code",
      "source": [
        "start_time = time.time()\n",
        "\n",
        "for root, directories, filenames in os.walk(folderpath):\n",
        "  for filename in filenames:\n",
        "    if filename.lower().endswith(exten):\n",
        "      filename = os.path.join(root, filename)\n",
        "      print('Converting %s...\\n'%filename)\n",
        "\n",
        "      of = filename[:-5]+'.avi'\n",
        "\n",
        "      f = open(filename,'rb')\n",
        "      m = f.read(8)\n",
        "      height, width = struct.unpack(\">2I\", m)\n",
        "      rate = \"15\"\n",
        "\n",
        "      cmdstr = ('ffmpeg', '-y', '-r', rate,\\\n",
        "        '-f', 'rawvideo',\n",
        "        '-pix_fmt', 'gray',\n",
        "        '-s', str(width)+\"x\"+str(height),\n",
        "        '-i', '-',\n",
        "        of)\n",
        "\n",
        "      p = subprocess.Popen(cmdstr, stdin=subprocess.PIPE, shell=False)\n",
        "\n",
        "      while True:\n",
        "        img = f.read(width*height)\n",
        "        p.stdin.write(img)\n",
        "        m = f.read(8)\n",
        "        if not m:\n",
        "            break\n",
        "        height, width = struct.unpack(\">2I\", m)\n",
        "\n",
        "      print('Saved in %s'%of)\n",
        "\n",
        "      nbFiles += 1\n",
        "      p.kill()\n",
        "print('Conversion of %i files over!'%nbFiles)\n",
        "print(\"--- %.2f seconds elapsed ---\" % (time.time() - start_time))\n",
        "# p.terminate()"
      ],
      "metadata": {
        "id": "fcpaCpkOhJPb"
      },
      "execution_count": null,
      "outputs": []
    },
    {
      "cell_type": "code",
      "source": [],
      "metadata": {
        "id": "ibT6DGqSwBtp"
      },
      "execution_count": null,
      "outputs": []
    }
  ]
}