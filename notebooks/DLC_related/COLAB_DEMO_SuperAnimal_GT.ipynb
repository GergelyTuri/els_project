{
  "cells": [
    {
      "cell_type": "markdown",
      "metadata": {
        "id": "view-in-github",
        "colab_type": "text"
      },
      "source": [
        "<a href=\"https://colab.research.google.com/github/GergelyTuri/els_project/blob/master/notebooks/COLAB_DEMO_SuperAnimal_GT.ipynb\" target=\"_parent\"><img src=\"https://colab.research.google.com/assets/colab-badge.svg\" alt=\"Open In Colab\"/></a>"
      ]
    },
    {
      "cell_type": "markdown",
      "metadata": {
        "id": "ZnxpWzhiadXz"
      },
      "source": [
        "<a target=\"_blank\" href=\"https://colab.research.google.com/github/DeepLabCut/DeepLabCut/blob/main/examples/COLAB/COLAB_DEMO_SuperAnimal.ipynb\">\n",
        "  <img src=\"https://colab.research.google.com/assets/colab-badge.svg\" alt=\"Open In Colab\"/>\n",
        "</a>"
      ]
    },
    {
      "cell_type": "markdown",
      "source": [
        "# Demo notebook for using DLC's super animal packege.\n",
        "- GT 7/11/2023"
      ],
      "metadata": {
        "id": "yvE1qG7d4Loa"
      }
    },
    {
      "cell_type": "markdown",
      "metadata": {
        "id": "23v-XAUNQIPY"
      },
      "source": [
        "# First, go to \"Runtime\" ->\"change runtime type\"->select \"Python3\", and then select \"GPU\""
      ]
    },
    {
      "cell_type": "code",
      "execution_count": null,
      "metadata": {
        "id": "03ylSyQ4O9Ee"
      },
      "outputs": [],
      "source": [
        "!pip install \"deeplabcut[tf,modelzoo] @ git+https://github.com/DeepLabCut/DeepLabCut@main\""
      ]
    },
    {
      "cell_type": "markdown",
      "metadata": {
        "id": "TguLMTJpQx1_"
      },
      "source": [
        "## PLEASE, click \"restart runtime\" from the output above before proceeding!"
      ]
    },
    {
      "cell_type": "code",
      "execution_count": null,
      "metadata": {
        "id": "4BejjXKFO2Zg",
        "colab": {
          "base_uri": "https://localhost:8080/"
        },
        "outputId": "f19e7849-e5c4-40db-9364-263c43bffcd9"
      },
      "outputs": [
        {
          "output_type": "stream",
          "name": "stdout",
          "text": [
            "Loading DLC 2.3.4...\n",
            "DLC loaded in light mode; you cannot use any GUI (labeling, relabeling and standalone GUI)\n"
          ]
        }
      ],
      "source": [
        "import deeplabcut\n",
        "import os"
      ]
    },
    {
      "cell_type": "code",
      "source": [
        "from google.colab import drive\n",
        "drive.mount('/gdrive')"
      ],
      "metadata": {
        "colab": {
          "base_uri": "https://localhost:8080/"
        },
        "id": "hki3NGkLe6fT",
        "outputId": "a111cb24-ceeb-4659-b6a3-ec6920ae469a"
      },
      "execution_count": null,
      "outputs": [
        {
          "output_type": "stream",
          "name": "stdout",
          "text": [
            "Mounted at /gdrive\n"
          ]
        }
      ]
    },
    {
      "cell_type": "markdown",
      "source": [
        "### Constructing input-output directories"
      ],
      "metadata": {
        "id": "CZpWAtNIMWQ_"
      }
    },
    {
      "cell_type": "code",
      "source": [
        "# modify this as per the location of your videos\n",
        "# this was optimized for the context project. other project may have different\n",
        "# structure\n",
        "base_dir = '/gdrive/Shareddrives/Turi_lab/Data/'\n",
        "context = 'Context2'\n",
        "task = 'OFT'\n",
        "condition = 'baseline'\n",
        "f = os.path.join(base_dir, context, context +'_' + task, condition)\n",
        "f"
      ],
      "metadata": {
        "id": "UehxhDrQL6nl"
      },
      "execution_count": null,
      "outputs": []
    },
    {
      "cell_type": "markdown",
      "source": [
        "# 👇This will check whether the path to the dir is correct!"
      ],
      "metadata": {
        "id": "sJ94eSTOYKgO"
      }
    },
    {
      "cell_type": "code",
      "source": [
        "# the DLC input folder with videos\n",
        "\n",
        "try:\n",
        "  if os.path.isdir(os.path.join(base_dir, context, context +'_' + task, condition)):\n",
        "    video_path = os.path.join(base_dir, context, context +'_' + task, condition)\n",
        "    print('Directory exists')\n",
        "  else:\n",
        "    print('Directory does not exist')\n",
        "except:\n",
        "  print(\"An error occurred while checking the directory:\", str(e))"
      ],
      "metadata": {
        "colab": {
          "base_uri": "https://localhost:8080/"
        },
        "id": "ihRsPRAKTGCh",
        "outputId": "9db3a355-6c48-4f29-91f1-f122a44a8415"
      },
      "execution_count": null,
      "outputs": [
        {
          "output_type": "stream",
          "name": "stdout",
          "text": [
            "Directory exists\n"
          ]
        }
      ]
    },
    {
      "cell_type": "markdown",
      "source": [
        "Constructing the output directories\n",
        "Again, you need to tweak this for your project."
      ],
      "metadata": {
        "id": "FQ8IqieoY2CF"
      }
    },
    {
      "cell_type": "code",
      "source": [
        "if not os.path.exists(os.path.join(base_dir, 'moseq_analysis', context + '_' + task, condition)):\n",
        "  print('No working_directory. ... Creating working_directory')\n",
        "  os.makedirs(os.path.join(base_dir, 'moseq_analysis', context + '_' + task, condition))\n",
        "  working_directory = os.path.join(base_dir, 'moseq_analysis', context + '_' + task, condition)\n",
        "else:\n",
        "  print('working_directory exist')\n",
        "  working_directory = os.path.join(base_dir, 'moseq_analysis', context + '_' + task, condition)"
      ],
      "metadata": {
        "colab": {
          "base_uri": "https://localhost:8080/"
        },
        "id": "lV_JOlFgOKq3",
        "outputId": "be3d0c12-7bff-4bdb-9331-aaf849bf89f3"
      },
      "execution_count": null,
      "outputs": [
        {
          "output_type": "stream",
          "name": "stdout",
          "text": [
            "working_directory exist\n"
          ]
        }
      ]
    },
    {
      "cell_type": "code",
      "execution_count": null,
      "metadata": {
        "id": "xXNMNLe6xEBC"
      },
      "outputs": [],
      "source": [
        "# change the strings as needed\n",
        "# the DLC config.yml file will be populated with these\n",
        "project_name = 'modelzoo_analysis'\n",
        "your_name = 'gergo'"
      ]
    },
    {
      "cell_type": "code",
      "source": [
        "# use working_directory argument to specify where the project will be created.\n",
        "# this cell will take all the videos in the `video_path` folder and make a copy\n",
        "# in the `working_directory` folder.\n",
        "config_path, train_config_path = deeplabcut.create_pretrained_project(\n",
        "    project_name,\n",
        "    your_name,\n",
        "    [video_path],\n",
        "    working_directory = working_directory,\n",
        "    videotype=\".avi\",\n",
        "    model=\"superanimal_topviewmouse\",\n",
        "    analyzevideo=True,\n",
        "    createlabeledvideo=False, # will be created further down in this notebook\n",
        "    copy_videos=True, #must leave copy_videos=True\n",
        ")"
      ],
      "metadata": {
        "id": "ZdT-TUclf0Fk"
      },
      "execution_count": null,
      "outputs": []
    },
    {
      "cell_type": "markdown",
      "source": [
        "### update the skeleton section in the new dlc yconfig.yml file!"
      ],
      "metadata": {
        "id": "_qvRQHKYZrxv"
      }
    },
    {
      "cell_type": "code",
      "source": [
        "# Updating the plotting within the config.yaml file (without opening it ;):\n",
        "edits = {\n",
        "    'dotsize': 3,  # size of the dots!\n",
        "    'colormap': 'spring',  # any matplotlib colormap!\n",
        "    'pcutoff': 0.7,  # the higher the more conservative the plotting!\n",
        "}\n",
        "deeplabcut.auxiliaryfunctions.edit_config(config_path, edits)"
      ],
      "metadata": {
        "id": "7dWsF8MUjjHc"
      },
      "execution_count": null,
      "outputs": []
    },
    {
      "cell_type": "code",
      "source": [
        "# re-create the labeled video (first you will need to delete in the folder to the LEFT!):\n",
        "project_path = os.path.dirname(config_path)\n",
        "full_video_path = os.path.join(\n",
        "    project_path,\n",
        "    'videos',\n",
        "\n",
        ") #os.path.basename(video_path),\n",
        "\n",
        "#filter predictions (should already be done above ;):\n",
        "deeplabcut.filterpredictions(config_path, [full_video_path], videotype='.avi')\n",
        "\n",
        "#re-create the video with your edits!\n",
        "deeplabcut.create_labeled_video(config_path, [full_video_path], videotype='.avi', filtered=True)"
      ],
      "metadata": {
        "id": "ZJIb5eCTj470"
      },
      "execution_count": null,
      "outputs": []
    },
    {
      "cell_type": "markdown",
      "source": [
        "it seems to work up until this 👆\n",
        "\n",
        "can the raw `.avi` files removed at this point?"
      ],
      "metadata": {
        "id": "SBZXxLmGmKI6"
      }
    },
    {
      "cell_type": "code",
      "source": [
        "# this does not work\n",
        "deeplabcut.plot_trajectories(config_path, full_video_path, videotype='avi',\n",
        "                             filtered=True, displayedbodyparts=['tail_base',\n",
        "                                                                'mid_backend',\n",
        "                                                                'mid_backend2',\n",
        "                                                                'mid_backend3',\n",
        "                                                                'head_midpoint',\n",
        "                                                                'nose',\n",
        "                                                                'right_ear',\n",
        "                                                                'left_ear',\n",
        "                                                                'head_midpoint'\n",
        "                                                                ],\n",
        "                             destfolder=plot_path, resolution=300)"
      ],
      "metadata": {
        "id": "79oJZp3MmJmN"
      },
      "execution_count": null,
      "outputs": []
    }
  ],
  "metadata": {
    "accelerator": "GPU",
    "colab": {
      "provenance": [],
      "machine_shape": "hm",
      "gpuType": "V100",
      "include_colab_link": true
    },
    "gpuClass": "standard",
    "kernelspec": {
      "display_name": "dlc",
      "language": "python",
      "name": "python3"
    },
    "language_info": {
      "codemirror_mode": {
        "name": "ipython",
        "version": 3
      },
      "file_extension": ".py",
      "mimetype": "text/x-python",
      "name": "python",
      "nbconvert_exporter": "python",
      "pygments_lexer": "ipython3",
      "version": "3.9.13 | packaged by conda-forge | (main, May 27 2022, 17:01:00) \n[Clang 13.0.1 ]"
    },
    "vscode": {
      "interpreter": {
        "hash": "ef00193d8f29a47f592f520086c931b5dd2a83e8a593fa0efe5afff3c413a788"
      }
    }
  },
  "nbformat": 4,
  "nbformat_minor": 0
}