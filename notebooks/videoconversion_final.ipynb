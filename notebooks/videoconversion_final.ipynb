{
  "nbformat": 4,
  "nbformat_minor": 0,
  "metadata": {
    "colab": {
      "provenance": [],
      "include_colab_link": true
    },
    "kernelspec": {
      "name": "python3",
      "display_name": "Python 3"
    },
    "language_info": {
      "name": "python"
    }
  },
  "cells": [
    {
      "cell_type": "markdown",
      "metadata": {
        "id": "view-in-github",
        "colab_type": "text"
      },
      "source": [
        "<a href=\"https://colab.research.google.com/github/GergelyTuri/els_project/blob/master/notebooks/videoconversion_final.ipynb\" target=\"_parent\"><img src=\"https://colab.research.google.com/assets/colab-badge.svg\" alt=\"Open In Colab\"/></a>"
      ]
    },
    {
      "cell_type": "markdown",
      "source": [
        "# The script converts `.ffii` files to avi or mp4.\n",
        "By: Aliza Hacking - 2023 summer\n",
        "\n",
        "It is also added to the ELS repo"
      ],
      "metadata": {
        "id": "AnuYSPncfFEt"
      }
    },
    {
      "cell_type": "code",
      "execution_count": null,
      "metadata": {
        "colab": {
          "base_uri": "https://localhost:8080/"
        },
        "id": "ccSbwkaSe8ee",
        "outputId": "b90ae2f4-e248-4f0b-c919-fa026b5ff834"
      },
      "outputs": [
        {
          "output_type": "stream",
          "name": "stdout",
          "text": [
            "fatal: destination path 'ffmpeg' already exists and is not an empty directory.\n"
          ]
        }
      ],
      "source": [
        "! git clone https://git.ffmpeg.org/ffmpeg.git ffmpeg"
      ]
    },
    {
      "cell_type": "code",
      "source": [
        "from google.colab import drive\n",
        "drive.mount(\"/content/drive\")"
      ],
      "metadata": {
        "colab": {
          "base_uri": "https://localhost:8080/"
        },
        "id": "KxYaizwohdBP",
        "outputId": "0463d638-385b-4c12-89ad-5ecda0bc42ed"
      },
      "execution_count": null,
      "outputs": [
        {
          "output_type": "stream",
          "name": "stdout",
          "text": [
            "Drive already mounted at /content/drive; to attempt to forcibly remount, call drive.mount(\"/content/drive\", force_remount=True).\n"
          ]
        }
      ]
    },
    {
      "cell_type": "code",
      "source": [
        "import sys\n",
        "import struct\n",
        "import subprocess\n",
        "import os\n",
        "import time\n",
        "\n",
        "def usage():\n",
        "    print(sys.argv[0], '/content/drive/Shareddrives/Turi_lab/Data/PTSD_project/ELS2_PTSD/shockboxes/SEFLb/males/')\n",
        "    quit()\n",
        "\n",
        "if __name__ == \"__main__\":\n",
        "    if (len(sys.argv) < 2):\n",
        "        usage()\n",
        "\n",
        "    folderpath = sys.argv[1]\n",
        "\n",
        "    exten = '.ffii'\n",
        "    nbFiles = 0\n",
        "\n",
        "    start_time = time.time()\n",
        "\n",
        "    for root, directories, filenames in os.walk(folderpath):\n",
        "        for filename in filenames:\n",
        "            if filename.lower().endswith(exten):\n",
        "                filename = os.path.join(root, filename)\n",
        "                print('Converting %s...\\n'%filename)\n",
        "\n",
        "                of = filename[:-5]+'.avi'\n",
        "\n",
        "                f = open(filename,'rb')\n",
        "                m = f.read(8)\n",
        "                height, width = struct.unpack(\">2I\", m)\n",
        "                rate = \"15\"\n",
        "\n",
        "                cmdstr = ('ffmpeg', '-y', '-r', rate,\\\n",
        "                        '-f', 'rawvideo',\n",
        "                        '-pix_fmt', 'gray',\n",
        "                        '-s', str(width)+\"x\"+str(height),\n",
        "                        '-i', '-',\n",
        "                        of)\n",
        "\n",
        "                p = subprocess.Popen(cmdstr, stdin=subprocess.PIPE, shell=False)\n",
        "\n",
        "                while True:\n",
        "                    img = f.read(width*height)\n",
        "                    p.stdin.write(img)\n",
        "                    m = f.read(8)\n",
        "                    if not m:\n",
        "                        break\n",
        "                    height, width = struct.unpack(\">2I\", m)\n",
        "\n",
        "                print('Saved in %s'%of)\n",
        "\n",
        "                nbFiles += 1\n",
        "                p.kill()\n",
        "    print('Conversion of %i files over!'%nbFiles)\n",
        "    print(\"--- %.2f seconds elapsed ---\" % (time.time() - start_time))\n",
        "    # p.terminate()"
      ],
      "metadata": {
        "colab": {
          "base_uri": "https://localhost:8080/"
        },
        "id": "fcpaCpkOhJPb",
        "outputId": "2022b2f8-c09d-48ac-c914-5239aa2f6417"
      },
      "execution_count": null,
      "outputs": [
        {
          "output_type": "stream",
          "name": "stdout",
          "text": [
            "Conversion of 0 files over!\n",
            "--- 0.00 seconds elapsed ---\n"
          ]
        }
      ]
    },
    {
      "cell_type": "code",
      "source": [],
      "metadata": {
        "id": "nY-9GaVzsFHV"
      },
      "execution_count": null,
      "outputs": []
    }
  ]
}