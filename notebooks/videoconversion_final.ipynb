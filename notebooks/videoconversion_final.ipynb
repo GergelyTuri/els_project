{
  "cells": [
    {
      "cell_type": "markdown",
      "metadata": {
        "colab_type": "text",
        "id": "view-in-github"
      },
      "source": [
        "<a href=\"https://colab.research.google.com/github/GergelyTuri/els_project/blob/master/notebooks/videoconversion_final.ipynb\" target=\"_parent\"><img src=\"https://colab.research.google.com/assets/colab-badge.svg\" alt=\"Open In Colab\"/></a>"
      ]
    },
    {
      "cell_type": "markdown",
      "metadata": {
        "id": "AnuYSPncfFEt"
      },
      "source": [
        "# The script converts `.ffii` files to avi or mp4.\n",
        "By: Aliza Hacking - 2023 summer\n",
        "\n",
        "It is also added to the ELS repo\n",
        "* 11/7/23 minor changes to the script - GT"
      ]
    },
    {
      "cell_type": "code",
      "execution_count": null,
      "metadata": {
        "colab": {
          "base_uri": "https://localhost:8080/"
        },
        "id": "ccSbwkaSe8ee",
        "outputId": "b90ae2f4-e248-4f0b-c919-fa026b5ff834"
      },
      "outputs": [],
      "source": [
        "!git clone https://git.ffmpeg.org/ffmpeg.git ffmpeg"
      ]
    },
    {
      "cell_type": "code",
      "execution_count": null,
      "metadata": {
        "colab": {
          "base_uri": "https://localhost:8080/"
        },
        "id": "KxYaizwohdBP",
        "outputId": "0463d638-385b-4c12-89ad-5ecda0bc42ed"
      },
      "outputs": [],
      "source": [
        "from google.colab import drive\n",
        "drive.mount(\"/content/drive\")"
      ]
    },
    {
      "cell_type": "code",
      "execution_count": null,
      "metadata": {},
      "outputs": [],
      "source": [
        "import struct\n",
        "import subprocess\n",
        "import os\n",
        "import time"
      ]
    },
    {
      "cell_type": "code",
      "execution_count": null,
      "metadata": {},
      "outputs": [],
      "source": [
        "video_loc = 'path/to/video/folder/'"
      ]
    },
    {
      "cell_type": "code",
      "execution_count": null,
      "metadata": {
        "colab": {
          "base_uri": "https://localhost:8080/"
        },
        "id": "fcpaCpkOhJPb",
        "outputId": "2022b2f8-c09d-48ac-c914-5239aa2f6417"
      },
      "outputs": [],
      "source": [
        "folderpath = video_loc\n",
        "\n",
        "exten = '.ffii'\n",
        "nbFiles = 0\n",
        "\n",
        "start_time = time.time()\n",
        "\n",
        "for root, directories, filenames in os.walk(folderpath):\n",
        "    for filename in filenames:\n",
        "        if filename.lower().endswith(exten):\n",
        "            filepath = os.path.join(root, filename)\n",
        "            print(f'Converting {filepath} ...')\n",
        "\n",
        "            output_filepath = filepath[:-5] + '.avi'\n",
        "\n",
        "            # Try to open teh file safely\n",
        "            try:\n",
        "                with open(filepath, 'rb',) as f:\n",
        "                    m = f.read(8)\n",
        "                    height, width = struct.unpack(\">2I\", m)\n",
        "                    rate = \"15\"\n",
        "\n",
        "                    cmdstr = ['ffmpeg', '-y', '-r', rate,\n",
        "                            '-f', 'rawvideo',\n",
        "                            '-pix_fmt', 'gray',\n",
        "                            '-s', f\"{width}x{height}\",\n",
        "                            '-i', '-',\n",
        "                            output_filepath]\n",
        "\n",
        "                    p = subprocess.Popen(cmdstr, stdin=subprocess.PIPE)\n",
        "\n",
        "                    while True:\n",
        "                        img = f.read(width*height)\n",
        "                        if not img:\n",
        "                            break\n",
        "                        p.stdin.write(img)\n",
        "                        m = f.read(8)\n",
        "                        if not m:\n",
        "                            break\n",
        "                        height, width = struct.unpack(\">2I\", m)\n",
        "                    p.stdin.close()\n",
        "                    p.wait() # Wait for FFmpeg to finish\n",
        "\n",
        "                    print(f'Saved in {output_filepath}')\n",
        "\n",
        "                    nbFiles += 1\n",
        "            except Exception as e:\n",
        "                print(f\"An error occurred: {e}\")\n",
        "\n",
        "print(f'Conversion of {nbFiles} files over!')\n",
        "print(f\"--- {time.time() - start_time:.2f} seconds elapsed ---\")"
      ]
    }
  ],
  "metadata": {
    "colab": {
      "include_colab_link": true,
      "provenance": []
    },
    "kernelspec": {
      "display_name": "Python 3",
      "name": "python3"
    },
    "language_info": {
      "name": "python"
    }
  },
  "nbformat": 4,
  "nbformat_minor": 0
}
